{
 "cells": [
  {
   "cell_type": "markdown",
   "metadata": {},
   "source": [
    "# **Saylani Mass Training Program**\n",
    "### **Cloud Data Engineering Module by Qasim Hassan**"
   ]
  },
  {
   "cell_type": "markdown",
   "metadata": {},
   "source": [
    "#### A basice Extract, Transform and Load (ETL) pipeline using web scrapping, pandas and sql"
   ]
  },
  {
   "cell_type": "markdown",
   "metadata": {},
   "source": [
    "#### Import necessary Libraries"
   ]
  },
  {
   "cell_type": "code",
   "execution_count": 1,
   "metadata": {},
   "outputs": [],
   "source": [
    "#!pip install icecream"
   ]
  },
  {
   "cell_type": "code",
   "execution_count": 1,
   "metadata": {},
   "outputs": [],
   "source": [
    "from io import StringIO\n",
    "import requests\n",
    "from bs4 import BeautifulSoup\n",
    "import pandas as pd\n",
    "import sqlite3\n",
    "from datetime import datetime\n",
    "#from icecream import ic"
   ]
  },
  {
   "cell_type": "markdown",
   "metadata": {},
   "source": [
    "#### Step 0: Maintaining a Log File\n",
    "This step is done to record the logs while performing ETL and it is not neccessary in an ETL Pipeline"
   ]
  },
  {
   "cell_type": "code",
   "execution_count": 2,
   "metadata": {},
   "outputs": [],
   "source": [
    "def log_progress(message):\n",
    "    \"\"\"This function logs the mentioned message of a given stage of the\n",
    "    code execution to a log file. Function returns nothing\"\"\"\n",
    "\n",
    "    try:\n",
    "        with open('./logs/code_log.txt', 'a') as f:\n",
    "            f.write(f'{datetime.now()}: {message}\\n')\n",
    "    except Exception as e:\n",
    "        print(f\"Logging failed: {e}\")"
   ]
  },
  {
   "cell_type": "code",
   "execution_count": 4,
   "metadata": {},
   "outputs": [],
   "source": [
    "# url = 'https://web.archive.org/web/20230908091635/https://en.wikipedia.org/wiki/List_of_largest_banks'\n",
    "# table_attribs = 'By market capitalization'\n"
   ]
  },
  {
   "cell_type": "markdown",
   "metadata": {},
   "source": [
    "#### Step 1: Extract"
   ]
  },
  {
   "cell_type": "code",
   "execution_count": 3,
   "metadata": {},
   "outputs": [],
   "source": [
    "def extract(url, table_attribs):\n",
    "    \"\"\" This function aims to extract the required\n",
    "    information from the website and save it to a data frame. The\n",
    "    function returns the data frame for further processing. \"\"\"\n",
    "    try:\n",
    "        response = requests.get(url)\n",
    "        response.raise_for_status()  # Raises HTTPError for bad responses\n",
    "\n",
    "        soup = BeautifulSoup(response.text, 'html.parser')\n",
    "        span = soup.find('span', string=table_attribs)\n",
    "\n",
    "        if span is None:\n",
    "            raise ValueError(f\"Span with text '{table_attribs}' not found\")\n",
    "\n",
    "        table = span.find_next('table')\n",
    "        if table is None:\n",
    "            raise ValueError(\"Table following the span not found\")\n",
    "\n",
    "        df = pd.read_html(StringIO(str(table)))[0]\n",
    "\n",
    "        log_progress('Data extraction complete. Initiating Transformation process')\n",
    "\n",
    "        return df\n",
    "\n",
    "    except Exception as e:\n",
    "        log_progress(f\"Error during data extraction: {e}\")\n",
    "        print(f\"Extraction failed: {e}\")\n",
    "        return pd.DataFrame()  # Return an empty DataFrame on failure"
   ]
  },
  {
   "cell_type": "code",
   "execution_count": 4,
   "metadata": {},
   "outputs": [],
   "source": [
    "# df=extract(url, table_attribs)\n",
    "# df"
   ]
  },
  {
   "cell_type": "code",
   "execution_count": 5,
   "metadata": {},
   "outputs": [],
   "source": [
    "# csv_path = './input/exchange_rate.csv'"
   ]
  },
  {
   "cell_type": "markdown",
   "metadata": {},
   "source": [
    "#### Step 2: Transform"
   ]
  },
  {
   "cell_type": "code",
   "execution_count": 4,
   "metadata": {},
   "outputs": [],
   "source": [
    "def transform(df, csv_path):\n",
    "    \"\"\" This function accesses the CSV file for exchange rate\n",
    "    information, and adds three columns to the data frame, each\n",
    "    containing the transformed version of Market Cap column to\n",
    "    respective currencies\"\"\"\n",
    "\n",
    "    try:\n",
    "        exchange_rate = pd.read_csv(csv_path, index_col=0).to_dict()['Rate']\n",
    "        print(exchange_rate)\n",
    "\n",
    "        required_col = 'Market cap(US$ billion)'\n",
    "        if required_col not in df.columns:\n",
    "            raise KeyError(f\"Missing required column: '{required_col}'\")\n",
    "\n",
    "        df['MC_GBP_Billion'] = round(df[required_col] * exchange_rate['GBP'], 2)\n",
    "        df['MC_EUR_Billion'] = round(df[required_col] * exchange_rate['EUR'], 2)\n",
    "        df['MC_INR_Billion'] = round(df[required_col] * exchange_rate['INR'], 2)\n",
    "\n",
    "        print(df)\n",
    "\n",
    "        log_progress('Data transformation complete. Initiating Loading process')\n",
    "\n",
    "        return df\n",
    "\n",
    "    except Exception as e:\n",
    "        log_progress(f\"Error during data transformation: {e}\")\n",
    "        print(f\"Transformation failed: {e}\")\n",
    "        return df  # Return the original df, even if not fully transformed"
   ]
  },
  {
   "cell_type": "code",
   "execution_count": 7,
   "metadata": {},
   "outputs": [],
   "source": [
    "# transform(df, csv_path)"
   ]
  },
  {
   "cell_type": "markdown",
   "metadata": {},
   "source": [
    "#### Step 3: Load"
   ]
  },
  {
   "cell_type": "markdown",
   "metadata": {},
   "source": [
    "Loading data to a CSV"
   ]
  },
  {
   "cell_type": "code",
   "execution_count": 5,
   "metadata": {},
   "outputs": [],
   "source": [
    "def load_to_csv(df, output_path):\n",
    "    \"\"\" This function saves the final data frame as a CSV file in\n",
    "    the provided path. Function returns nothing.\"\"\"\n",
    "\n",
    "    try:\n",
    "        df.to_csv(output_path)\n",
    "        log_progress('Data saved to CSV file')\n",
    "    except Exception as e:\n",
    "        log_progress(f\"Error saving data to CSV: {e}\")\n",
    "        print(f\"CSV export failed: {e}\")"
   ]
  },
  {
   "cell_type": "markdown",
   "metadata": {},
   "source": [
    "Loading data to SQL"
   ]
  },
  {
   "cell_type": "code",
   "execution_count": 6,
   "metadata": {},
   "outputs": [],
   "source": [
    "def load_to_db(df, sql_connection, table_name):\n",
    "    \"\"\" This function saves the final data frame to a database\n",
    "    table with the provided name. Function returns nothing.\"\"\"\n",
    "\n",
    "    try:\n",
    "        df.to_sql(table_name, sql_connection, if_exists='replace', index=False)\n",
    "        log_progress('Data loaded to Database as a table, Executing queries')\n",
    "    except Exception as e:\n",
    "        log_progress(f\"Error loading data to database: {e}\")\n",
    "        print(f\"Database load failed: {e}\")\n",
    "\n",
    "\n",
    "def run_query(query_statement, sql_connection):\n",
    "    \"\"\" This function runs the query on the database table and\n",
    "    prints the output on the terminal. Function returns nothing. \"\"\"\n",
    "\n",
    "    try:\n",
    "        cursor = sql_connection.cursor()\n",
    "        cursor.execute(query_statement)\n",
    "        result = cursor.fetchall()\n",
    "        log_progress('Process Complete')\n",
    "        return result\n",
    "    except Exception as e:\n",
    "        log_progress(f\"Error executing query: {e}\")\n",
    "        print(f\"Query execution failed: {e}\")\n",
    "        return None"
   ]
  },
  {
   "cell_type": "markdown",
   "metadata": {},
   "source": [
    "### Executing Pipeline"
   ]
  },
  {
   "cell_type": "code",
   "execution_count": 11,
   "metadata": {},
   "outputs": [
    {
     "name": "stdout",
     "output_type": "stream",
     "text": [
      "{'EUR': 0.93, 'GBP': 0.8, 'INR': 82.95}\n",
      "Transformation failed: \"Missing required column: 'Market cap(US$ billion)'\"\n",
      "[(1, 'JPMorgan Chase', 432.92), (2, 'Bank of America', 231.52), (3, 'Industrial and Commercial Bank of China', 194.56), (4, 'Agricultural Bank of China', 160.68), (5, 'HDFC Bank', 157.91), (6, 'Wells Fargo', 155.87), (7, 'HSBC Holdings PLC', 148.9), (8, 'Morgan Stanley', 140.83), (9, 'China Construction Bank', 139.82), (10, 'Bank of China', 136.81)]\n",
      "Query execution failed: no such column: MC_GBP_Billion\n",
      "None\n",
      "[('JPMorgan Chase',), ('Bank of America',), ('Industrial and Commercial Bank of China',), ('Agricultural Bank of China',), ('HDFC Bank',)]\n"
     ]
    }
   ],
   "source": [
    "if __name__ == '__main__':\n",
    "    url = 'https://web.archive.org/web/20230908091635/https://en.wikipedia.org/wiki/List_of_largest_banks'\n",
    "    output_csv_path = './output/Largest_banks_data.csv'\n",
    "    database_name = './output/Banks.db'\n",
    "    table_name = 'Largest_banks'\n",
    "\n",
    "    log_progress('Preliminaries complete. Initiating ETL process')\n",
    "\n",
    "    try:\n",
    "        df = extract(url, 'By market capitalization')\n",
    "    except Exception as e:\n",
    "        log_progress(f\"ETL aborted during extraction: {e}\")\n",
    "        exit(1)\n",
    "\n",
    "    try:\n",
    "        df = transform(df, './input/exchange_rate.csv')\n",
    "    except Exception as e:\n",
    "        log_progress(f\"ETL aborted during transformation: {e}\")\n",
    "        exit(1)\n",
    "\n",
    "    try:\n",
    "        load_to_csv(df, output_csv_path)\n",
    "    except Exception as e:\n",
    "        log_progress(f\"ETL aborted during CSV export: {e}\")\n",
    "        exit(1)\n",
    "\n",
    "    try:\n",
    "        with sqlite3.connect(database_name) as conn:\n",
    "            load_to_db(df, conn, table_name)\n",
    "\n",
    "            result1 = run_query('SELECT * FROM Largest_banks', conn)\n",
    "            print(result1)\n",
    "\n",
    "            result2 = run_query('SELECT AVG(MC_GBP_Billion) FROM Largest_banks', conn)\n",
    "            print(result2)\n",
    "\n",
    "            result3 = run_query('SELECT \"Bank name\" FROM Largest_banks LIMIT 5', conn)\n",
    "            print(result3)\n",
    "\n",
    "    except Exception as e:\n",
    "        log_progress(f\"ETL aborted during database operations: {e}\")\n",
    "        print(f\"Database error: {e}\")\n",
    "        exit(1)"
   ]
  },
  {
   "cell_type": "code",
   "execution_count": null,
   "metadata": {},
   "outputs": [],
   "source": []
  }
 ],
 "metadata": {
  "kernelspec": {
   "display_name": "base",
   "language": "python",
   "name": "python3"
  },
  "language_info": {
   "codemirror_mode": {
    "name": "ipython",
    "version": 3
   },
   "file_extension": ".py",
   "mimetype": "text/x-python",
   "name": "python",
   "nbconvert_exporter": "python",
   "pygments_lexer": "ipython3",
   "version": "3.12.7"
  }
 },
 "nbformat": 4,
 "nbformat_minor": 2
}
