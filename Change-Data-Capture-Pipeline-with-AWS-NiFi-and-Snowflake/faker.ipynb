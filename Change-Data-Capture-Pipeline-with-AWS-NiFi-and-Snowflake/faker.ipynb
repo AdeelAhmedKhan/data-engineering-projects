{
 "cells": [
  {
   "cell_type": "code",
   "execution_count": 3,
   "id": "48245e9e",
   "metadata": {},
   "outputs": [
    {
     "name": "stdout",
     "output_type": "stream",
     "text": [
      "Collecting faker\n",
      "  Downloading faker-37.4.2-py3-none-any.whl.metadata (15 kB)\n",
      "Requirement already satisfied: tzdata in c:\\users\\adeel.ahmed.khan\\appdata\\local\\programs\\python\\python311\\lib\\site-packages (from faker) (2024.1)\n",
      "Downloading faker-37.4.2-py3-none-any.whl (1.9 MB)\n",
      "   ---------------------------------------- 0.0/1.9 MB ? eta -:--:--\n",
      "   ------------------------------------- -- 1.8/1.9 MB 11.2 MB/s eta 0:00:01\n",
      "   ---------------------------------------- 1.9/1.9 MB 9.8 MB/s eta 0:00:00\n",
      "Installing collected packages: faker\n",
      "Successfully installed faker-37.4.2\n",
      "Note: you may need to restart the kernel to use updated packages.\n"
     ]
    },
    {
     "name": "stderr",
     "output_type": "stream",
     "text": [
      "\n",
      "[notice] A new release of pip is available: 25.0.1 -> 25.1.1\n",
      "[notice] To update, run: python.exe -m pip install --upgrade pip\n"
     ]
    }
   ],
   "source": [
    "# pip install faker"
   ]
  },
  {
   "cell_type": "code",
   "execution_count": 4,
   "id": "af6f3418",
   "metadata": {},
   "outputs": [],
   "source": [
    "from faker import Faker\n",
    "import csv\n",
    "import random\n",
    "from decimal import Decimal\n",
    "from datetime import datetime\n",
    "\n",
    "RECORD_COUNT = 10000\n",
    "fake = Faker()"
   ]
  },
  {
   "cell_type": "code",
   "execution_count": 5,
   "id": "c0c9e8b0",
   "metadata": {},
   "outputs": [
    {
     "name": "stdout",
     "output_type": "stream",
     "text": [
      "20250721143318\n"
     ]
    }
   ],
   "source": [
    "current_time = datetime.now().strftime(\"%Y%m%d%H%M%S\")\n",
    "print(current_time)"
   ]
  },
  {
   "cell_type": "code",
   "execution_count": 6,
   "id": "c818719b",
   "metadata": {},
   "outputs": [],
   "source": [
    "def create_csv_file():\n",
    "    with open(f'FakeDataset/customer_{current_time}.csv', 'w', newline='') as csvfile:\n",
    "        fieldnames = [\"customer_id\",\"first_name\",\"last_name\",\"email\",\"street\",\n",
    "                      \"city\",\"state\",\"country\"\n",
    "                     ]\n",
    "        writer = csv.DictWriter(csvfile, fieldnames=fieldnames)\n",
    "\n",
    "        writer.writeheader()\n",
    "        for i in range(RECORD_COUNT):\n",
    "            #print(i)\n",
    "            writer.writerow(\n",
    "                {\n",
    "                    \"customer_id\": i,#fake.random_int(min=1, max=10000),\n",
    "                    'first_name': fake.first_name(),\n",
    "                    'last_name': fake.last_name(),\n",
    "                    'email': fake.email(),\n",
    "                    'street': fake.street_address(),\n",
    "                    'city': fake.city(),\n",
    "                    'state': fake.state(),\n",
    "                    'country': fake.country()\n",
    "                }\n",
    "            )"
   ]
  },
  {
   "cell_type": "code",
   "execution_count": 8,
   "id": "334e911e",
   "metadata": {},
   "outputs": [],
   "source": [
    "if __name__ == '__main__':\n",
    "    create_csv_file()"
   ]
  }
 ],
 "metadata": {
  "kernelspec": {
   "display_name": "Python 3",
   "language": "python",
   "name": "python3"
  },
  "language_info": {
   "codemirror_mode": {
    "name": "ipython",
    "version": 3
   },
   "file_extension": ".py",
   "mimetype": "text/x-python",
   "name": "python",
   "nbconvert_exporter": "python",
   "pygments_lexer": "ipython3",
   "version": "3.11.8"
  }
 },
 "nbformat": 4,
 "nbformat_minor": 5
}
